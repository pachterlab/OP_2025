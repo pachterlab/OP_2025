{
 "cells": [
  {
   "cell_type": "code",
   "execution_count": 1,
   "id": "6f314d09-f98e-4a02-880e-391976195296",
   "metadata": {
    "colab": {
     "base_uri": "https://localhost:8080/"
    },
    "id": "6f314d09-f98e-4a02-880e-391976195296",
    "outputId": "d2abc568-359e-41b9-cad3-90055c5192b8"
   },
   "outputs": [],
   "source": [
    "import anndata\n",
    "import pandas as pd\n",
    "import numpy as np\n",
    "import seaborn as sns \n",
    "import matplotlib.pyplot as plt\n",
    "import scanpy as sc\n",
    "import scipy\n",
    "import statsmodels.api as sm\n",
    "import os\n",
    "import statsmodels.stats.multitest\n",
    "from adjustText import adjust_text"
   ]
  },
  {
   "cell_type": "code",
   "execution_count": 2,
   "id": "5acc5318-721c-46d5-a5d8-429f459d15c4",
   "metadata": {},
   "outputs": [],
   "source": [
    "os.chdir('/home/coakes/rat/')\n",
    "from rat_friend import *\n",
    "os.chdir('/home/coakes/virus_rat/')"
   ]
  },
  {
   "cell_type": "markdown",
   "id": "0d04fcd8-b4ed-415c-ad85-5b526c803de5",
   "metadata": {},
   "source": [
    "# Load Adata"
   ]
  },
  {
   "cell_type": "markdown",
   "id": "269b56d1-4e68-4152-80fe-34e38e87c5be",
   "metadata": {},
   "source": [
    "## Load Virus Data"
   ]
  },
  {
   "cell_type": "code",
   "execution_count": 3,
   "id": "e4b1a8d4-c934-493a-88cb-2d2a98d3ac38",
   "metadata": {},
   "outputs": [
    {
     "name": "stderr",
     "output_type": "stream",
     "text": [
      "/tmp/ipykernel_2034342/3429301357.py:5: ImplicitModificationWarning: Trying to modify attribute `.obs` of view, initializing view as actual.\n",
      "  virus_adata.obs['lifetime'] = [8 if x == 0 else x for x in virus_adata.obs.time.values]\n"
     ]
    },
    {
     "data": {
      "text/plain": [
       "AnnData object with n_obs × n_vars = 861 × 30758\n",
       "    obs: 'barcode', 'index', 'path', 'nac_path', 'mat_path', 'amb_path', 'time', 'sex', 'tissue', 'viallabel', 'calculated.variables.pct_body_fat_change', 'calculated.variables.pct_body_lean_change', 'calculated.variables.pct_body_fluid_change', 'calculated.variables.lactate_change_dueto_train', 'calculated.variables.vo2_max_change', 'calculated.variables.coll_time_train', 'calculated.variables.deathtime_after_train', 'calculated.variables.frozetime_after_train', 'pid', 'group', 'rank', 'nid', 'num_umi', 'old_tissue', 'lifetime'\n",
       "    var: 'rep_ID', 'phylum', 'class', 'order', 'family', 'genus', 'species', 'contaminate', 'known', 'n_counts'"
      ]
     },
     "execution_count": 3,
     "metadata": {},
     "output_type": "execute_result"
    }
   ],
   "source": [
    "virus_adata = anndata.read_h5ad(\"/home/coakes/virus_rat/virus_post_qc.h5ad\")\n",
    "virus_adata.obs.time = virus_adata.obs.time.astype('int')\n",
    "virus_adata = virus_adata[~virus_adata.obs['time'].isna()]\n",
    "virus_adata = virus_adata[:,~virus_adata.var.contaminate]\n",
    "virus_adata.obs['lifetime'] = [8 if x == 0 else x for x in virus_adata.obs.time.values]\n",
    "virus_adata"
   ]
  },
  {
   "cell_type": "code",
   "execution_count": 4,
   "id": "54de2ecb-d44c-4d65-9b6d-c980ec345677",
   "metadata": {},
   "outputs": [
    {
     "name": "stdout",
     "output_type": "stream",
     "text": [
      "{'BLOOD', 'KIDNEY', 'WAT', 'ADRNL', 'SKM-VL', 'HEART', 'LUNG', 'SMLINT', 'HYPOTH', 'HIPPOC', 'SKM-GN', 'SPLEEN', 'CORTEX'}\n"
     ]
    },
    {
     "name": "stderr",
     "output_type": "stream",
     "text": [
      "/tmp/ipykernel_2034342/714092077.py:3: FutureWarning: The default of observed=False is deprecated and will be changed to True in a future version of pandas. Pass observed=False to retain current behavior or observed=True to adopt the future default and silence this warning.\n",
      "  test_df2 = test_df.groupby('nid').agg({'tissue': set}).reset_index()\n",
      "/tmp/ipykernel_2034342/714092077.py:4: FutureWarning: The default of observed=False is deprecated and will be changed to True in a future version of pandas. Pass observed=False to retain current behavior or observed=True to adopt the future default and silence this warning.\n",
      "  test_df2['tiss_count'] = test_df.groupby('nid').count().reset_index(drop=True)\n"
     ]
    },
    {
     "data": {
      "text/plain": [
       "View of AnnData object with n_obs × n_vars = 507 × 30758\n",
       "    obs: 'barcode', 'index', 'path', 'nac_path', 'mat_path', 'amb_path', 'time', 'sex', 'tissue', 'viallabel', 'calculated.variables.pct_body_fat_change', 'calculated.variables.pct_body_lean_change', 'calculated.variables.pct_body_fluid_change', 'calculated.variables.lactate_change_dueto_train', 'calculated.variables.vo2_max_change', 'calculated.variables.coll_time_train', 'calculated.variables.deathtime_after_train', 'calculated.variables.frozetime_after_train', 'pid', 'group', 'rank', 'nid', 'num_umi', 'old_tissue', 'lifetime'\n",
       "    var: 'rep_ID', 'phylum', 'class', 'order', 'family', 'genus', 'species', 'contaminate', 'known', 'n_counts'"
      ]
     },
     "execution_count": 4,
     "metadata": {},
     "output_type": "execute_result"
    }
   ],
   "source": [
    "# Maximize number of tissues and rats with the most overlap\n",
    "test_df = virus_adata.obs[['nid', 'tissue']]\n",
    "test_df2 = test_df.groupby('nid').agg({'tissue': set}).reset_index()\n",
    "test_df2['tiss_count'] = test_df.groupby('nid').count().reset_index(drop=True)\n",
    "test_df2 = test_df2[test_df2.tiss_count > 16]\n",
    "tiss_list = set.intersection(*test_df2.tissue.to_list())\n",
    "print(tiss_list)\n",
    "nid_list = test_df2.nid.to_list()\n",
    "\n",
    "# get set of tissues and rats with most overlap\n",
    "virus_adata = virus_adata[virus_adata.obs.tissue.isin(tiss_list)]\n",
    "virus_adata = virus_adata[virus_adata.obs.nid.isin(nid_list)]\n",
    "virus_adata"
   ]
  },
  {
   "cell_type": "markdown",
   "id": "0d2d6547-1c2a-4ce4-9695-4b851843b762",
   "metadata": {},
   "source": [
    "Sum virus by individual"
   ]
  },
  {
   "cell_type": "code",
   "execution_count": 5,
   "id": "08cfc436-caa5-46ae-9167-ec521ffaa11d",
   "metadata": {},
   "outputs": [
    {
     "name": "stderr",
     "output_type": "stream",
     "text": [
      "/tmp/ipykernel_2034342/3342687752.py:2: FutureWarning: The default of observed=False is deprecated and will be changed to True in a future version of pandas. Pass observed=False to retain current behavior or observed=True to adopt the future default and silence this warning.\n",
      "  nid_virus_adata.obs = pd.merge(nid_virus_adata.obs.reset_index(names='nid'), virus_adata.obs.groupby('nid').first()[['sex', 'time', 'lifetime']].reset_index())\n"
     ]
    },
    {
     "data": {
      "text/plain": [
       "AnnData object with n_obs × n_vars = 39 × 30758\n",
       "    obs: 'nid', 'sex', 'time', 'lifetime'\n",
       "    var: 'rep_ID', 'phylum', 'class', 'order', 'family', 'genus', 'species', 'contaminate', 'known', 'n_counts'"
      ]
     },
     "execution_count": 5,
     "metadata": {},
     "output_type": "execute_result"
    }
   ],
   "source": [
    "nid_virus_adata = sum_by(virus_adata, 'nid')\n",
    "nid_virus_adata.obs = pd.merge(nid_virus_adata.obs.reset_index(names='nid'), virus_adata.obs.groupby('nid').first()[['sex', 'time', 'lifetime']].reset_index())\n",
    "nid_virus_adata"
   ]
  },
  {
   "cell_type": "markdown",
   "id": "53224f64-a67f-4023-b6a0-8d0d39154aee",
   "metadata": {},
   "source": [
    "## Load Rat Data"
   ]
  },
  {
   "cell_type": "code",
   "execution_count": 6,
   "id": "c777faa0-bb0e-4031-a75b-c671414a2137",
   "metadata": {},
   "outputs": [
    {
     "data": {
      "text/plain": [
       "View of AnnData object with n_obs × n_vars = 685 × 24770\n",
       "    obs: 'barcode', 'path', 'nac_path', 'mat_path', 'amb_path', 'time', 'sex', 'tissue', 'viallabel', 'calculated.variables.pct_body_fat_change', 'calculated.variables.pct_body_lean_change', 'calculated.variables.pct_body_fluid_change', 'calculated.variables.lactate_change_dueto_train', 'calculated.variables.vo2_max_change', 'calculated.variables.coll_time_train', 'calculated.variables.deathtime_after_train', 'calculated.variables.frozetime_after_train', 'pid', 'group', 'rank', 'nid', 'num_umi', 'outlier', 'original_out', 'old_tissue'\n",
       "    var: 'gene_id', 'has_U_tr', 'eff_len', 'mt', 'ensembl_transcript_id', 'description', 'ensembl_gene_id', 'X3', 'X5', 'X6', 'X7', 'X8'\n",
       "    uns: 'X_name'\n",
       "    layers: 'ambiguous', 'spliced', 'unspliced', 'counts'"
      ]
     },
     "execution_count": 6,
     "metadata": {},
     "output_type": "execute_result"
    }
   ],
   "source": [
    "rat_adata = anndata.read_h5ad(\"/home/coakes/rat/omics_adata/rat_RNA_meta.h5ad\")\n",
    "rat_adata.layers['counts'] = rat_adata.X\n",
    "rat_adata = rat_adata[rat_adata.obs.nid.isin(nid_list)]\n",
    "rat_adata"
   ]
  },
  {
   "cell_type": "code",
   "execution_count": 7,
   "id": "6f09126f-34cf-4fff-a761-044f8ff83be6",
   "metadata": {},
   "outputs": [
    {
     "name": "stderr",
     "output_type": "stream",
     "text": [
      "/tmp/ipykernel_2034342/54662949.py:2: FutureWarning: The default of observed=False is deprecated and will be changed to True in a future version of pandas. Pass observed=False to retain current behavior or observed=True to adopt the future default and silence this warning.\n",
      "  nid_rat_adata.obs = pd.merge(nid_rat_adata.obs.reset_index(names='nid'), rat_adata.obs.groupby('nid').first()[['sex', 'time']].reset_index())\n"
     ]
    },
    {
     "data": {
      "text/plain": [
       "AnnData object with n_obs × n_vars = 39 × 24770\n",
       "    obs: 'nid', 'sex', 'time'\n",
       "    var: 'gene_id', 'has_U_tr', 'eff_len', 'mt', 'ensembl_transcript_id', 'description', 'ensembl_gene_id', 'X3', 'X5', 'X6', 'X7', 'X8'"
      ]
     },
     "execution_count": 7,
     "metadata": {},
     "output_type": "execute_result"
    }
   ],
   "source": [
    "nid_rat_adata = sum_by(rat_adata, 'nid')\n",
    "nid_rat_adata.obs = pd.merge(nid_rat_adata.obs.reset_index(names='nid'), rat_adata.obs.groupby('nid').first()[['sex', 'time']].reset_index())\n",
    "nid_rat_adata"
   ]
  },
  {
   "cell_type": "markdown",
   "id": "a8aa3e5f-6c1f-4109-8627-f2ccd4c41d2c",
   "metadata": {},
   "source": [
    "# Find Correlation of Virus Counts over Time"
   ]
  },
  {
   "cell_type": "code",
   "execution_count": 8,
   "id": "181d0151-bc52-4295-9914-53734ad75846",
   "metadata": {},
   "outputs": [
    {
     "name": "stdout",
     "output_type": "stream",
     "text": [
      "time\n",
      "Pearson R = 0.242\n",
      "P-value = 0.1378\n"
     ]
    }
   ],
   "source": [
    "analysis_df = pd.DataFrame({\n",
    "    'total_virus' : np.sum(nid_virus_adata.X.toarray(), axis=1),\n",
    "    'total_virus_std' : np.std(nid_virus_adata.X.toarray(), axis=1),\n",
    "    'time' : nid_virus_adata.obs['time'],\n",
    "    'lifetime' : nid_virus_adata.obs['lifetime'],\n",
    "    'sex' : nid_virus_adata.obs['sex'],\n",
    "    'nid' : nid_virus_adata.obs['nid']\n",
    "})\n",
    "print('time')\n",
    "time_corr = analysis_df['total_virus'].corr(analysis_df['time'])\n",
    "print(f'Pearson R = {np.round(time_corr, 4)}')\n",
    "print(f'P-value = {np.round(2*scipy.stats.beta(nid_virus_adata.shape[0]/2 -1, nid_virus_adata.shape[0]/2 -1, loc=-1, scale=2).cdf(-abs(time_corr)), 4)}')"
   ]
  },
  {
   "cell_type": "code",
   "execution_count": 9,
   "id": "11f424de-e84d-4e6a-b327-76b7ece332bd",
   "metadata": {},
   "outputs": [
    {
     "name": "stdout",
     "output_type": "stream",
     "text": [
      "lifetime\n",
      "Pearson R = 0.4935\n",
      "P-value = 0.0014\n"
     ]
    }
   ],
   "source": [
    "print('lifetime')\n",
    "time_corr = analysis_df['total_virus'].corr(analysis_df['lifetime'])\n",
    "print(f'Pearson R = {np.round(time_corr, 4)}')\n",
    "print(f'P-value = {np.round(2*scipy.stats.beta(nid_virus_adata.shape[0]/2 -1, nid_virus_adata.shape[0]/2 -1, loc=-1, scale=2).cdf(-abs(time_corr)), 4)}')"
   ]
  },
  {
   "cell_type": "code",
   "execution_count": 10,
   "id": "945fd54f-8e4a-49ad-b361-5fd620eadf1a",
   "metadata": {},
   "outputs": [
    {
     "data": {
      "text/plain": [
       "Text(0, 0.5, 'Total Counts of All Virus')"
      ]
     },
     "execution_count": 10,
     "metadata": {},
     "output_type": "execute_result"
    },
    {
     "data": {
      "image/png": "[encoded data removed]",
      "text/plain": [
       "<Figure size 640x480 with 1 Axes>"
      ]
     },
     "metadata": {},
     "output_type": "display_data"
    }
   ],
   "source": [
    "sns.scatterplot(analysis_df, x = 'time', y = 'total_virus', hue = 'sex')\n",
    "plt.ylabel('Total Counts of All Virus')"
   ]
  },
  {
   "cell_type": "markdown",
   "id": "edaca365-06e6-46b4-8b3f-694b57928e56",
   "metadata": {},
   "source": [
    "# Plot Virus Counts Over Lifetime"
   ]
  },
  {
   "cell_type": "code",
   "execution_count": 11,
   "id": "13474bc4-b7ae-4bab-a62e-27114926f0f5",
   "metadata": {},
   "outputs": [
    {
     "name": "stderr",
     "output_type": "stream",
     "text": [
      "/home/coakes/miniconda3/envs/rata/lib/python3.12/site-packages/matplotlib/text.py:905: FutureWarning: Calling float on a single element Series is deprecated and will raise a TypeError in the future. Use float(ser.iloc[0]) instead\n",
      "  x = float(self.convert_xunits(self._x))\n",
      "/home/coakes/miniconda3/envs/rata/lib/python3.12/site-packages/matplotlib/text.py:906: FutureWarning: Calling float on a single element Series is deprecated and will raise a TypeError in the future. Use float(ser.iloc[0]) instead\n",
      "  y = float(self.convert_yunits(self._y))\n",
      "/home/coakes/miniconda3/envs/rata/lib/python3.12/site-packages/matplotlib/text.py:762: FutureWarning: Calling float on a single element Series is deprecated and will raise a TypeError in the future. Use float(ser.iloc[0]) instead\n",
      "  posx = float(self.convert_xunits(x))\n",
      "/home/coakes/miniconda3/envs/rata/lib/python3.12/site-packages/matplotlib/text.py:763: FutureWarning: Calling float on a single element Series is deprecated and will raise a TypeError in the future. Use float(ser.iloc[0]) instead\n",
      "  posy = float(self.convert_yunits(y))\n"
     ]
    },
    {
     "data": {
      "image/png": "[encoded data removed]",
      "text/plain": [
       "<Figure size 250x300 with 1 Axes>"
      ]
     },
     "metadata": {},
     "output_type": "display_data"
    }
   ],
   "source": [
    "res = scipy.stats.pearsonr(analysis_df['total_virus'].values, analysis_df['lifetime'].values)\n",
    "plt.figure(figsize=(2.5, 3))\n",
    "m, b = np.polyfit(analysis_df['lifetime'].values, analysis_df['total_virus'].values, 1)\n",
    "X_plot = np.linspace(1,8,100)\n",
    "\n",
    "\n",
    "analysis_df['passon'] = [True if x == 8 else False for x in analysis_df.lifetime]\n",
    "#analysis_df.loc[analysis_df['nid'] == 'F0K', 'passon'] = 'red'\n",
    "sns.scatterplot(analysis_df, x = 'lifetime', y = 'total_virus', hue = 'passon',\n",
    "               palette = {True: 'green', False: 'grey'}\n",
    "               )\n",
    "sns.scatterplot(analysis_df[analysis_df['nid'] == 'F0K'], x = 'lifetime', y = 'total_virus', hue = 'passon',\n",
    "               palette = {True: 'red'}\n",
    "               )\n",
    "plt.text(s='FOK', x = analysis_df[analysis_df['nid'] == 'F0K'].lifetime-.25, y = analysis_df[analysis_df['nid'] == 'F0K'].total_virus, \n",
    "            ha='right'\n",
    "               )\n",
    "plt.text(2, 1.15e7, \"Pearson's r ={:.2f}\".format(res[0]))\n",
    "plt.plot(X_plot, m*X_plot + b, '-', color='darkgrey')\n",
    "plt.ylabel('Total Counts of All Virus')\n",
    "#plt.yscale('log')\n",
    "plt.ylim([1e7, 1.2e7])\n",
    "plt.xlabel('Time Before Sample \\n Collection')\n",
    "plt.legend('', frameon=False)\n",
    "plt.tight_layout()\n",
    "plt.savefig('figures_final/fig_3a.png')"
   ]
  },
  {
   "cell_type": "code",
   "execution_count": null,
   "id": "34bd017a-e1c8-4e35-8183-76acf2baba27",
   "metadata": {},
   "outputs": [],
   "source": []
  }
 ],
 "metadata": {
  "colab": {
   "include_colab_link": true,
   "provenance": []
  },
  "kernelspec": {
   "display_name": "Python 3 (ipykernel)",
   "language": "python",
   "name": "python3"
  },
  "language_info": {
   "codemirror_mode": {
    "name": "ipython",
    "version": 3
   },
   "file_extension": ".py",
   "mimetype": "text/x-python",
   "name": "python",
   "nbconvert_exporter": "python",
   "pygments_lexer": "ipython3",
   "version": "3.12.0"
  }
 },
 "nbformat": 4,
 "nbformat_minor": 5
}
