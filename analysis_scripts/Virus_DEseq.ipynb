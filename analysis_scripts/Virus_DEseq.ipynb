{
 "cells": [
  {
   "cell_type": "code",
   "execution_count": null,
   "id": "dd8549a8",
   "metadata": {},
   "outputs": [],
   "source": [
    "# import packages\n",
    "\n",
    "import os, sys\n",
    "sys.path.append('../')\n",
    "from pathlib import Path\n",
    "\n",
    "import time\n",
    "\n",
    "# numbers\n",
    "import numpy as np\n",
    "import pandas as pd\n",
    "\n",
    "# sc\n",
    "import anndata\n",
    "import scanpy as sc\n",
    "\n",
    "from pydeseq2.dds import DeseqDataSet\n",
    "from pydeseq2.default_inference import DefaultInference\n",
    "from pydeseq2.ds import DeseqStats\n",
    "import statsmodels.stats.multitest\n",
    "\n",
    "# plots\n",
    "import matplotlib\n",
    "import matplotlib.pyplot as plt\n",
    "import seaborn as sns\n",
    "from adjustText import adjust_text\n",
    "\n",
    "from rat_friend import *"
   ]
  },
  {
   "cell_type": "code",
   "execution_count": null,
   "id": "ddfdbfd5-efd2-49ab-ac14-49ec6e02a8b3",
   "metadata": {},
   "outputs": [],
   "source": [
    "os.chdir('../')"
   ]
  },
  {
   "cell_type": "code",
   "execution_count": 3,
   "id": "d166e765-f570-49c4-a7bd-2751527882cf",
   "metadata": {},
   "outputs": [
    {
     "data": {
      "text/plain": [
       "{'ADRNL': '#D55E00',\n",
       " 'BAT': '#56B4E9',\n",
       " 'BLOOD': '#009E73',\n",
       " 'COLON': '#F0E442',\n",
       " 'CORTEX': '#0072B2',\n",
       " 'HEART': '#E69F00',\n",
       " 'HIPPOC': '#CC79A7',\n",
       " 'HYPOTH': '#666666',\n",
       " 'KIDNEY': '#AD7700',\n",
       " 'LIVER': '#1C91D4',\n",
       " 'LUNG': '#007756',\n",
       " 'OVARY': '#D5C711',\n",
       " 'SKM-GN': '#005685',\n",
       " 'SKM-VL': '#A04700',\n",
       " 'SMLINT': '#B14380',\n",
       " 'SPLEEN': '#4D4D4D',\n",
       " 'TESTES': '#FFBE2D',\n",
       " 'VENACV': '#80C7EF',\n",
       " 'WAT': '#00F6B3'}"
      ]
     },
     "execution_count": 3,
     "metadata": {},
     "output_type": "execute_result"
    }
   ],
   "source": [
    "color_opts =  np.array([\n",
    "    \"#D55E00\", \"#56B4E9\", \"#009E73\", \"#F0E442\", \"#0072B2\", \"#E69F00\", \"#CC79A7\", \"#666666\", \"#AD7700\", \"#1C91D4\", \"#007756\", \"#D5C711\", \"#005685\",\n",
    "    \"#A04700\", \"#B14380\", \"#4D4D4D\", \"#FFBE2D\", \"#80C7EF\", \"#00F6B3\", \"#F4EB71\", \"#06A5FF\", \"#FF8320\", \"#D99BBD\", \"#8C8C8C\", \"#FFCB57\", \"#9AD2F2\",\n",
    "    \"#2CFFC6\", \"#F6EF8E\", \"#38B7FF\", \"#FF9B4D\", \"#E0AFCA\", \"#A3A3A3\", \"#8A5F00\", \"#1674A9\", \"#005F45\", \"#AA9F0D\", \"#00446B\", \"#803800\", \"#8D3666\",\n",
    "    \"#3D3D3D\"\n",
    "])\n",
    "tissues = ['ADRNL','BAT','BLOOD','COLON','CORTEX','HEART','HIPPOC','HYPOTH',\n",
    " 'KIDNEY','LIVER', 'LUNG','OVARY','SKM-GN','SKM-VL','SMLINT','SPLEEN','TESTES','VENACV','WAT']\n",
    "color_dict = {}\n",
    "\n",
    "for x in range(len(tissues)):\n",
    "    color_dict[tissues[x]] = color_opts[x]\n",
    "\n",
    "color_dict"
   ]
  },
  {
   "cell_type": "markdown",
   "id": "7c8e58d9-64e2-486b-a43e-6f26ffa76fd0",
   "metadata": {},
   "source": [
    "# Load Data"
   ]
  },
  {
   "cell_type": "markdown",
   "id": "05439bb3-0c34-4254-9403-4955782e5d5f",
   "metadata": {},
   "source": [
    "## Load virus dataset"
   ]
  },
  {
   "cell_type": "code",
   "execution_count": null,
   "id": "a5e48e0a-7925-4580-8a87-bbd50c8c75d4",
   "metadata": {},
   "outputs": [
    {
     "name": "stderr",
     "output_type": "stream",
     "text": [
      "/tmp/ipykernel_2078903/3043539459.py:5: ImplicitModificationWarning: Trying to modify attribute `.obs` of view, initializing view as actual.\n",
      "  virus_adata.obs['lifetime'] = [8 if x == 0 else x for x in virus_adata.obs.time.values]\n"
     ]
    },
    {
     "data": {
      "text/plain": [
       "View of AnnData object with n_obs × n_vars = 353 × 30758\n",
       "    obs: 'barcode', 'index', 'path', 'nac_path', 'mat_path', 'amb_path', 'time', 'sex', 'tissue', 'viallabel', 'calculated.variables.pct_body_fat_change', 'calculated.variables.pct_body_lean_change', 'calculated.variables.pct_body_fluid_change', 'calculated.variables.lactate_change_dueto_train', 'calculated.variables.vo2_max_change', 'calculated.variables.coll_time_train', 'calculated.variables.deathtime_after_train', 'calculated.variables.frozetime_after_train', 'pid', 'group', 'rank', 'nid', 'num_umi', 'old_tissue', 'lifetime'\n",
       "    var: 'rep_ID', 'phylum', 'class', 'order', 'family', 'genus', 'species', 'contaminate', 'known', 'n_counts'"
      ]
     },
     "execution_count": 4,
     "metadata": {},
     "output_type": "execute_result"
    }
   ],
   "source": [
    "virus_adata = anndata.read_h5ad(\"omics_adata/virus_post_qc.h5ad\")\n",
    "virus_adata.obs.time = virus_adata.obs.time.astype('int')\n",
    "virus_adata = virus_adata[~virus_adata.obs['time'].isna()]\n",
    "virus_adata = virus_adata[:,~virus_adata.var.contaminate]\n",
    "virus_adata.obs['lifetime'] = [8 if x == 0 else x for x in virus_adata.obs.time.values]\n",
    "adata = virus_adata[virus_adata.obs['lifetime']==8]\n",
    "adata"
   ]
  },
  {
   "cell_type": "code",
   "execution_count": 5,
   "id": "64bb4568-c03f-4eeb-af45-c04846964e95",
   "metadata": {},
   "outputs": [
    {
     "data": {
      "text/plain": [
       "View of AnnData object with n_obs × n_vars = 313 × 19128\n",
       "    obs: 'barcode', 'index', 'path', 'nac_path', 'mat_path', 'amb_path', 'time', 'sex', 'tissue', 'viallabel', 'calculated.variables.pct_body_fat_change', 'calculated.variables.pct_body_lean_change', 'calculated.variables.pct_body_fluid_change', 'calculated.variables.lactate_change_dueto_train', 'calculated.variables.vo2_max_change', 'calculated.variables.coll_time_train', 'calculated.variables.deathtime_after_train', 'calculated.variables.frozetime_after_train', 'pid', 'group', 'rank', 'nid', 'num_umi', 'old_tissue', 'lifetime'\n",
       "    var: 'rep_ID', 'phylum', 'class', 'order', 'family', 'genus', 'species', 'contaminate', 'known', 'n_counts'"
      ]
     },
     "execution_count": 5,
     "metadata": {},
     "output_type": "execute_result"
    }
   ],
   "source": [
    "adata = adata[:,adata.X.sum(axis=0) > 1]\n",
    "# remove tissues that cause problems for inference due to missing values\n",
    "adata = adata[[x not in ['VENACV', 'TESTES', 'OVARY'] for x in adata.obs.tissue.values]]\n",
    "adata"
   ]
  },
  {
   "cell_type": "markdown",
   "id": "f912e652-cb10-432c-be4b-8a3e046d3b30",
   "metadata": {},
   "source": [
    "## Load Rat Data"
   ]
  },
  {
   "cell_type": "code",
   "execution_count": null,
   "id": "7d46cea7-aafe-4421-9256-b5cfb713f0e2",
   "metadata": {},
   "outputs": [
    {
     "data": {
      "text/plain": [
       "AnnData object with n_obs × n_vars = 861 × 24770\n",
       "    obs: 'barcode', 'path', 'nac_path', 'mat_path', 'amb_path', 'time', 'sex', 'tissue', 'viallabel', 'calculated.variables.pct_body_fat_change', 'calculated.variables.pct_body_lean_change', 'calculated.variables.pct_body_fluid_change', 'calculated.variables.lactate_change_dueto_train', 'calculated.variables.vo2_max_change', 'calculated.variables.coll_time_train', 'calculated.variables.deathtime_after_train', 'calculated.variables.frozetime_after_train', 'pid', 'group', 'rank', 'nid', 'num_umi', 'outlier', 'original_out', 'old_tissue'\n",
       "    var: 'gene_id', 'has_U_tr', 'eff_len', 'mt', 'ensembl_transcript_id', 'description', 'ensembl_gene_id', 'X3', 'X5', 'X6', 'X7', 'X8'\n",
       "    uns: 'X_name'\n",
       "    layers: 'ambiguous', 'spliced', 'unspliced', 'counts'"
      ]
     },
     "execution_count": 6,
     "metadata": {},
     "output_type": "execute_result"
    }
   ],
   "source": [
    "rat_adata = anndata.read_h5ad(\"omics_adata/rat_RNA_meta.h5ad\")\n",
    "rat_adata.layers['counts'] = rat_adata.X\n",
    "rat_adata"
   ]
  },
  {
   "cell_type": "code",
   "execution_count": 7,
   "id": "1e611829-ac8e-49d5-8830-55bc6a115edc",
   "metadata": {},
   "outputs": [
    {
     "data": {
      "text/plain": [
       "AnnData object with n_obs × n_vars = 50 × 24770\n",
       "    obs: 'nid', 'sex', 'time'\n",
       "    var: 'gene_id', 'has_U_tr', 'eff_len', 'mt', 'ensembl_transcript_id', 'description', 'ensembl_gene_id', 'X3', 'X5', 'X6', 'X7', 'X8'"
      ]
     },
     "execution_count": 7,
     "metadata": {},
     "output_type": "execute_result"
    }
   ],
   "source": [
    "nid_rat_adata = sum_by(rat_adata, 'nid')\n",
    "nid_rat_adata.obs = pd.merge(nid_rat_adata.obs.reset_index(names='nid'), rat_adata.obs.groupby('nid').first()[['sex', 'time']].reset_index())\n",
    "nid_rat_adata"
   ]
  },
  {
   "cell_type": "markdown",
   "id": "d40ec930-28a5-4a39-89c9-06d8d2c89843",
   "metadata": {},
   "source": [
    "# Find differential viruses between time 0 and 8"
   ]
  },
  {
   "cell_type": "markdown",
   "id": "4dafc1d6-5d07-4af6-b8ac-f5bd9a4baba1",
   "metadata": {},
   "source": [
    "## Generate Deseq Model "
   ]
  },
  {
   "cell_type": "code",
   "execution_count": 8,
   "id": "3fd7e809-c379-4917-908f-1138f6451ad4",
   "metadata": {},
   "outputs": [
    {
     "name": "stderr",
     "output_type": "stream",
     "text": [
      "Fitting size factors...\n",
      "... done in 0.09 seconds.\n",
      "\n",
      "/home/coakes/miniconda3/envs/rata/lib/python3.12/site-packages/pydeseq2/utils.py:379: RuntimeWarning: overflow encountered in exp\n",
      "  mu_ = np.maximum(size_factors * np.exp(X @ beta), min_mu)\n",
      "/home/coakes/miniconda3/envs/rata/lib/python3.12/site-packages/pydeseq2/utils.py:233: RuntimeWarning: invalid value encountered in multiply\n",
      "  - counts * np.log(mu)\n",
      "/home/coakes/miniconda3/envs/rata/lib/python3.12/site-packages/pydeseq2/utils.py:231: RuntimeWarning: invalid value encountered in subtract\n",
      "  -logbinom\n",
      "/home/coakes/miniconda3/envs/rata/lib/python3.12/site-packages/pydeseq2/utils.py:383: RuntimeWarning: overflow encountered in exp\n",
      "  mu_ = np.maximum(size_factors * np.exp(X @ beta), min_mu)\n",
      "/home/coakes/miniconda3/envs/rata/lib/python3.12/site-packages/pydeseq2/utils.py:386: RuntimeWarning: invalid value encountered in divide\n",
      "  + ((1 / disp + counts) * mu_ / (1 / disp + mu_)) @ X\n",
      "/home/coakes/miniconda3/envs/rata/lib/python3.12/site-packages/pydeseq2/utils.py:379: RuntimeWarning: overflow encountered in exp\n",
      "  mu_ = np.maximum(size_factors * np.exp(X @ beta), min_mu)\n",
      "/home/coakes/miniconda3/envs/rata/lib/python3.12/site-packages/pydeseq2/utils.py:233: RuntimeWarning: invalid value encountered in multiply\n",
      "  - counts * np.log(mu)\n",
      "/home/coakes/miniconda3/envs/rata/lib/python3.12/site-packages/pydeseq2/utils.py:231: RuntimeWarning: invalid value encountered in subtract\n",
      "  -logbinom\n",
      "/home/coakes/miniconda3/envs/rata/lib/python3.12/site-packages/pydeseq2/utils.py:383: RuntimeWarning: overflow encountered in exp\n",
      "  mu_ = np.maximum(size_factors * np.exp(X @ beta), min_mu)\n",
      "/home/coakes/miniconda3/envs/rata/lib/python3.12/site-packages/pydeseq2/utils.py:386: RuntimeWarning: invalid value encountered in divide\n",
      "  + ((1 / disp + counts) * mu_ / (1 / disp + mu_)) @ X\n",
      "Fitting dispersions...\n",
      "... done in 2.00 seconds.\n",
      "\n",
      "Fitting dispersion trend curve...\n",
      "/home/coakes/miniconda3/envs/rata/lib/python3.12/site-packages/pydeseq2/dds.py:780: UserWarning: The dispersion trend curve fitting did not converge. Switching to a mean-based dispersion trend.\n",
      "  self._fit_parametric_dispersion_trend(vst)\n",
      "... done in 0.26 seconds.\n",
      "\n",
      "Fitting MAP dispersions...\n",
      "... done in 1.82 seconds.\n",
      "\n",
      "Fitting LFCs...\n",
      "... done in 3.33 seconds.\n",
      "\n",
      "Calculating cook's distance...\n",
      "... done in 0.40 seconds.\n",
      "\n",
      "Replacing 0 outlier genes.\n",
      "\n"
     ]
    }
   ],
   "source": [
    "inference = DefaultInference()\n",
    "dds = DeseqDataSet(\n",
    "    counts=np.round(adata.X.toarray()),\n",
    "    metadata=adata.obs[['nid', 'tissue', 'sex', 'time']],\n",
    "    # setting intercept as 0 because expectation is no virus expression\n",
    "    design='~(tissue + sex) * (time)',\n",
    "    inference=inference,\n",
    ")\n",
    "dds.deseq2()"
   ]
  },
  {
   "cell_type": "markdown",
   "id": "5b284ed0-1387-452b-bcad-5f21fa7d0e92",
   "metadata": {},
   "source": [
    "## Run Statistical Tests"
   ]
  },
  {
   "cell_type": "code",
   "execution_count": 21,
   "id": "c7371f0d-4a2e-49d5-aa26-d30ff0d2aed6",
   "metadata": {},
   "outputs": [
    {
     "data": {
      "text/plain": [
       "array([0. , 0. , 0. , 0. , 0. , 0. , 0. , 0. , 0. , 0. , 0. , 0. , 0. ,\n",
       "       0. , 0. , 0. , 0. , 8. , 0.5, 0.5, 0.5, 0.5, 0.5, 0.5, 0.5, 0.5,\n",
       "       0.5, 0.5, 0.5, 0.5, 0.5, 0.5, 0.5, 4. ])"
      ]
     },
     "execution_count": 21,
     "metadata": {},
     "output_type": "execute_result"
    }
   ],
   "source": [
    "contrast_vector = contraster(dds.obs[['nid', 'tissue', 'sex', 'time']], '~(tissue + sex) * (time)',\n",
    "          group1=[['time', 8]],\n",
    "          group2=[['time', 0]])\n",
    "contrast_vector"
   ]
  },
  {
   "cell_type": "code",
   "execution_count": 22,
   "id": "00bead77-7eed-470f-b182-e8d649271900",
   "metadata": {},
   "outputs": [
    {
     "name": "stderr",
     "output_type": "stream",
     "text": [
      "Running Wald tests...\n"
     ]
    },
    {
     "name": "stdout",
     "output_type": "stream",
     "text": [
      "Log2 fold change & Wald test p-value, contrast vector: [0.  0.  0.  0.  0.  0.  0.  0.  0.  0.  0.  0.  0.  0.  0.  0.  0.  8.\n",
      " 0.5 0.5 0.5 0.5 0.5 0.5 0.5 0.5 0.5 0.5 0.5 0.5 0.5 0.5 0.5 4. ]\n",
      "       baseMean  log2FoldChange     lfcSE      stat    pvalue  padj\n",
      "0      0.036071        0.170647  2.915143  0.058538  0.953320   1.0\n",
      "1      0.268704       -0.085115  2.910470 -0.029244  0.976670   1.0\n",
      "2      0.933316       -0.942900  1.522057 -0.619491  0.535593   1.0\n",
      "3      0.262135       -0.035139  2.909968 -0.012075  0.990365   1.0\n",
      "4      3.171994        0.113642  0.557996  0.203661  0.838618   1.0\n",
      "...         ...             ...       ...       ...       ...   ...\n",
      "19123  0.010673       -0.060454  2.915336 -0.020737  0.983456   1.0\n",
      "19124  0.005747       -0.024387  2.915490 -0.008365  0.993326   1.0\n",
      "19125  0.019320       -0.088468  2.915252 -0.030347  0.975791   1.0\n",
      "19126  0.005789        0.047748  2.915461  0.016377  0.986933   1.0\n",
      "19127  0.021500       -0.103954  2.915216 -0.035659  0.971554   1.0\n",
      "\n",
      "[19128 rows x 6 columns]\n"
     ]
    },
    {
     "name": "stderr",
     "output_type": "stream",
     "text": [
      "... done in 1.36 seconds.\n",
      "\n"
     ]
    }
   ],
   "source": [
    "stat_res = DeseqStats(dds, \n",
    "                                 contrast=contrast_vector, \n",
    "                                 inference=inference)\n",
    "stat_res.summary()"
   ]
  },
  {
   "cell_type": "code",
   "execution_count": 23,
   "id": "0aff313e-86ab-4ba9-8eed-fe1854c697d8",
   "metadata": {},
   "outputs": [
    {
     "data": {
      "text/html": [
       "<div>\n",
       "<style scoped>\n",
       "    .dataframe tbody tr th:only-of-type {\n",
       "        vertical-align: middle;\n",
       "    }\n",
       "\n",
       "    .dataframe tbody tr th {\n",
       "        vertical-align: top;\n",
       "    }\n",
       "\n",
       "    .dataframe thead th {\n",
       "        text-align: right;\n",
       "    }\n",
       "</style>\n",
       "<table border=\"1\" class=\"dataframe\">\n",
       "  <thead>\n",
       "    <tr style=\"text-align: right;\">\n",
       "      <th></th>\n",
       "      <th>baseMean</th>\n",
       "      <th>log2FoldChange</th>\n",
       "      <th>lfcSE</th>\n",
       "      <th>stat</th>\n",
       "      <th>pvalue</th>\n",
       "      <th>padj</th>\n",
       "    </tr>\n",
       "  </thead>\n",
       "  <tbody>\n",
       "    <tr>\n",
       "      <th>u234187</th>\n",
       "      <td>1.280187</td>\n",
       "      <td>-218.250092</td>\n",
       "      <td>2.830191e-15</td>\n",
       "      <td>-7.711496e+16</td>\n",
       "      <td>0.000000</td>\n",
       "      <td>0.0</td>\n",
       "    </tr>\n",
       "    <tr>\n",
       "      <th>u295940</th>\n",
       "      <td>0.122492</td>\n",
       "      <td>-0.369657</td>\n",
       "      <td>2.913105e+00</td>\n",
       "      <td>-1.268944e-01</td>\n",
       "      <td>0.899024</td>\n",
       "      <td>1.0</td>\n",
       "    </tr>\n",
       "    <tr>\n",
       "      <th>u295973</th>\n",
       "      <td>0.173364</td>\n",
       "      <td>-0.093660</td>\n",
       "      <td>2.912547e+00</td>\n",
       "      <td>-3.215753e-02</td>\n",
       "      <td>0.974346</td>\n",
       "      <td>1.0</td>\n",
       "    </tr>\n",
       "    <tr>\n",
       "      <th>u295983</th>\n",
       "      <td>0.005534</td>\n",
       "      <td>0.048000</td>\n",
       "      <td>2.915486e+00</td>\n",
       "      <td>1.646387e-02</td>\n",
       "      <td>0.986864</td>\n",
       "      <td>1.0</td>\n",
       "    </tr>\n",
       "    <tr>\n",
       "      <th>u295988</th>\n",
       "      <td>0.002620</td>\n",
       "      <td>-0.006353</td>\n",
       "      <td>2.915600e+00</td>\n",
       "      <td>-2.178994e-03</td>\n",
       "      <td>0.998261</td>\n",
       "      <td>1.0</td>\n",
       "    </tr>\n",
       "    <tr>\n",
       "      <th>u296056</th>\n",
       "      <td>0.003706</td>\n",
       "      <td>-0.006353</td>\n",
       "      <td>2.915599e+00</td>\n",
       "      <td>-2.179020e-03</td>\n",
       "      <td>0.998261</td>\n",
       "      <td>1.0</td>\n",
       "    </tr>\n",
       "    <tr>\n",
       "      <th>u296061</th>\n",
       "      <td>0.277703</td>\n",
       "      <td>-0.056284</td>\n",
       "      <td>2.348084e+00</td>\n",
       "      <td>-2.397029e-02</td>\n",
       "      <td>0.980876</td>\n",
       "      <td>1.0</td>\n",
       "    </tr>\n",
       "    <tr>\n",
       "      <th>u296066</th>\n",
       "      <td>0.011207</td>\n",
       "      <td>-0.060554</td>\n",
       "      <td>2.915333e+00</td>\n",
       "      <td>-2.077088e-02</td>\n",
       "      <td>0.983428</td>\n",
       "      <td>1.0</td>\n",
       "    </tr>\n",
       "    <tr>\n",
       "      <th>u296068</th>\n",
       "      <td>0.020892</td>\n",
       "      <td>-0.016521</td>\n",
       "      <td>2.914974e+00</td>\n",
       "      <td>-5.667606e-03</td>\n",
       "      <td>0.995478</td>\n",
       "      <td>1.0</td>\n",
       "    </tr>\n",
       "    <tr>\n",
       "      <th>u295878</th>\n",
       "      <td>0.009012</td>\n",
       "      <td>-0.024387</td>\n",
       "      <td>2.915490e+00</td>\n",
       "      <td>-8.364538e-03</td>\n",
       "      <td>0.993326</td>\n",
       "      <td>1.0</td>\n",
       "    </tr>\n",
       "  </tbody>\n",
       "</table>\n",
       "</div>"
      ],
      "text/plain": [
       "         baseMean  log2FoldChange         lfcSE          stat    pvalue  padj\n",
       "u234187  1.280187     -218.250092  2.830191e-15 -7.711496e+16  0.000000   0.0\n",
       "u295940  0.122492       -0.369657  2.913105e+00 -1.268944e-01  0.899024   1.0\n",
       "u295973  0.173364       -0.093660  2.912547e+00 -3.215753e-02  0.974346   1.0\n",
       "u295983  0.005534        0.048000  2.915486e+00  1.646387e-02  0.986864   1.0\n",
       "u295988  0.002620       -0.006353  2.915600e+00 -2.178994e-03  0.998261   1.0\n",
       "u296056  0.003706       -0.006353  2.915599e+00 -2.179020e-03  0.998261   1.0\n",
       "u296061  0.277703       -0.056284  2.348084e+00 -2.397029e-02  0.980876   1.0\n",
       "u296066  0.011207       -0.060554  2.915333e+00 -2.077088e-02  0.983428   1.0\n",
       "u296068  0.020892       -0.016521  2.914974e+00 -5.667606e-03  0.995478   1.0\n",
       "u295878  0.009012       -0.024387  2.915490e+00 -8.364538e-03  0.993326   1.0"
      ]
     },
     "execution_count": 23,
     "metadata": {},
     "output_type": "execute_result"
    }
   ],
   "source": [
    "res = stat_res.results_df\n",
    "res.index = adata.var.rep_ID.values\n",
    "res.sort_values(['padj'], ascending=True).iloc[0:10,:]"
   ]
  },
  {
   "cell_type": "markdown",
   "id": "95aca4e3-71c1-4275-86b8-d412f7cdbba2",
   "metadata": {},
   "source": [
    "## Plot Results"
   ]
  },
  {
   "cell_type": "code",
   "execution_count": 27,
   "id": "81594331-f866-4320-a04b-06da2b3e7b05",
   "metadata": {},
   "outputs": [
    {
     "data": {
      "image/png": "[encoded data removed]",
      "text/plain": [
       "<Figure size 300x300 with 1 Axes>"
      ]
     },
     "metadata": {},
     "output_type": "display_data"
    }
   ],
   "source": [
    "df = res\n",
    "df['logFC'] = df['log2FoldChange']\n",
    "df['adj.P.Val'] = df['padj']\n",
    "\n",
    "FC = 3\n",
    "    \n",
    "plt.figure(figsize=(3, 3))\n",
    "plt.scatter(x=df['logFC'],y=df['adj.P.Val'].apply(lambda x:-np.log10(x+.000001)),s=1,label=\"Not significant\", color = 'darkgrey')\n",
    "\n",
    "# highlight down- or up- regulated genes\n",
    "down = df[(df['logFC']<=-FC)&(df['adj.P.Val']<=0.05)]\n",
    "up = df[(df['logFC']>=FC)&(df['adj.P.Val']<=0.05)]\n",
    "\n",
    "\n",
    "plt.scatter(x=down['logFC'],y=down['adj.P.Val'].apply(lambda x:-np.log10(x+1e-32)),s=3,label=\"Down-regulated\",color=\"red\")\n",
    "plt.scatter(x=up['logFC'],y=up['adj.P.Val'].apply(lambda x:-np.log10(x+1e-30)),s=3,label=\"Up-regulated\",color=\"red\")\n",
    "texts=[]\n",
    "for i,r in up.iterrows():\n",
    "    texts.append(plt.text(x=r['logFC'],y=-np.log10(r['adj.P.Val']),s=i))\n",
    "for i,r in down.iterrows():\n",
    "    texts.append(plt.text(x=r['logFC']+2,y=-np.log10(r['adj.P.Val']+1e-30),s=i, va='bottom', ha='left'))\n",
    "plt.xlabel(\"logFC\")\n",
    "plt.ylabel(\"-logFDR\")\n",
    "plt.axvline(-FC,color=\"grey\",linestyle=\"--\")\n",
    "plt.axvline(FC,color=\"grey\",linestyle=\"--\")\n",
    "plt.axhline(-np.log10(.05/df.shape[0]),color=\"grey\",linestyle=\"--\")\n",
    "#adjust_text(texts,arrowprops=dict(arrowstyle=\"-\", color='black', lw=0.5), expand = (1.5, 1.5))\n",
    "plt.ylim([-1, 40])\n",
    "plt.tight_layout()\n",
    "plt.savefig('figures_final/fig_3b.png')\n",
    "plt.show()\n",
    "\n"
   ]
  },
  {
   "cell_type": "markdown",
   "id": "cfb247dd-6f22-41a8-ab14-73d0f505110e",
   "metadata": {},
   "source": [
    "# Correlation of Differentially \"Expressed\" Virus to genes"
   ]
  },
  {
   "cell_type": "markdown",
   "id": "ce703851-c26a-4cbc-8b2d-e11022fe4570",
   "metadata": {},
   "source": [
    "## Subset to specific Virus"
   ]
  },
  {
   "cell_type": "code",
   "execution_count": 13,
   "id": "3c702d72-6169-4e99-b027-c4f6d44e368e",
   "metadata": {},
   "outputs": [
    {
     "data": {
      "text/plain": [
       "AnnData object with n_obs × n_vars = 50 × 1\n",
       "    obs: 'nid', 'sex', 'time', 'lifetime'\n",
       "    var: 'rep_ID', 'phylum', 'class', 'order', 'family', 'genus', 'species', 'contaminate', 'known', 'n_counts'"
      ]
     },
     "execution_count": 13,
     "metadata": {},
     "output_type": "execute_result"
    }
   ],
   "source": [
    "vir = 'u234187'\n",
    "\n",
    "small_vir_adata = virus_adata[:,virus_adata.var.rep_ID == vir]\n",
    "small_nid_vir_adata = sum_by(small_vir_adata, 'nid')\n",
    "small_nid_vir_adata.obs = pd.merge(small_nid_vir_adata.obs.reset_index(names='nid'), small_vir_adata.obs.groupby('nid').first()[['sex', 'time', 'lifetime']].reset_index())\n",
    "small_nid_vir_adata"
   ]
  },
  {
   "cell_type": "code",
   "execution_count": 14,
   "id": "1acf1f83-8db1-4130-9fd7-45ae11de6ecf",
   "metadata": {},
   "outputs": [
    {
     "data": {
      "text/plain": [
       "AnnData object with n_obs × n_vars = 50 × 24770\n",
       "    obs: 'nid', 'sex', 'time', 'calculated.variables.vo2_max_change'\n",
       "    var: 'gene_id', 'has_U_tr', 'eff_len', 'mt', 'ensembl_transcript_id', 'description', 'ensembl_gene_id', 'X3', 'X5', 'X6', 'X7', 'X8'"
      ]
     },
     "execution_count": 14,
     "metadata": {},
     "output_type": "execute_result"
    }
   ],
   "source": [
    "small_rat_adata = rat_adata.copy()\n",
    "small_rat_adata = small_rat_adata[~small_rat_adata.obs.tissue.isin(['VENACV', 'ADRNL','TESTES', 'OVARY'])]\n",
    "small_nid_rat_adata = sum_by(small_rat_adata, 'nid')\n",
    "small_nid_rat_adata.obs = pd.merge(small_nid_rat_adata.obs.reset_index(names='nid'), small_rat_adata.obs.groupby('nid').first()[['sex', 'time', 'calculated.variables.vo2_max_change']].reset_index())\n",
    "small_nid_rat_adata"
   ]
  },
  {
   "cell_type": "code",
   "execution_count": 15,
   "id": "e59eb6a8-32c1-455b-abf6-af27dd74cfc8",
   "metadata": {},
   "outputs": [
    {
     "name": "stderr",
     "output_type": "stream",
     "text": [
      "/home/coakes/miniconda3/envs/rata/lib/python3.12/site-packages/numpy/lib/function_base.py:2897: RuntimeWarning: invalid value encountered in divide\n",
      "  c /= stddev[:, None]\n",
      "/home/coakes/miniconda3/envs/rata/lib/python3.12/site-packages/numpy/lib/function_base.py:2898: RuntimeWarning: invalid value encountered in divide\n",
      "  c /= stddev[None, :]\n"
     ]
    },
    {
     "data": {
      "text/html": [
       "<div>\n",
       "<style scoped>\n",
       "    .dataframe tbody tr th:only-of-type {\n",
       "        vertical-align: middle;\n",
       "    }\n",
       "\n",
       "    .dataframe tbody tr th {\n",
       "        vertical-align: top;\n",
       "    }\n",
       "\n",
       "    .dataframe thead th {\n",
       "        text-align: right;\n",
       "    }\n",
       "</style>\n",
       "<table border=\"1\" class=\"dataframe\">\n",
       "  <thead>\n",
       "    <tr style=\"text-align: right;\">\n",
       "      <th></th>\n",
       "      <th>vir_corr</th>\n",
       "      <th>gene_counts</th>\n",
       "      <th>gene_name</th>\n",
       "    </tr>\n",
       "  </thead>\n",
       "  <tbody>\n",
       "    <tr>\n",
       "      <th>ENSRNOG00000000001</th>\n",
       "      <td>0.212593</td>\n",
       "      <td>18586.0</td>\n",
       "      <td>Arsj</td>\n",
       "    </tr>\n",
       "    <tr>\n",
       "      <th>ENSRNOG00000000007</th>\n",
       "      <td>0.064487</td>\n",
       "      <td>575494.0</td>\n",
       "      <td>Gad1</td>\n",
       "    </tr>\n",
       "    <tr>\n",
       "      <th>ENSRNOG00000000008</th>\n",
       "      <td>0.005969</td>\n",
       "      <td>34046.0</td>\n",
       "      <td>Alx4</td>\n",
       "    </tr>\n",
       "    <tr>\n",
       "      <th>ENSRNOG00000000009</th>\n",
       "      <td>0.046696</td>\n",
       "      <td>877.0</td>\n",
       "      <td>Tmco5b</td>\n",
       "    </tr>\n",
       "    <tr>\n",
       "      <th>ENSRNOG00000000010</th>\n",
       "      <td>0.044263</td>\n",
       "      <td>135064.0</td>\n",
       "      <td>Cbln1</td>\n",
       "    </tr>\n",
       "  </tbody>\n",
       "</table>\n",
       "</div>"
      ],
      "text/plain": [
       "                    vir_corr  gene_counts gene_name\n",
       "ENSRNOG00000000001  0.212593      18586.0      Arsj\n",
       "ENSRNOG00000000007  0.064487     575494.0      Gad1\n",
       "ENSRNOG00000000008  0.005969      34046.0      Alx4\n",
       "ENSRNOG00000000009  0.046696        877.0    Tmco5b\n",
       "ENSRNOG00000000010  0.044263     135064.0     Cbln1"
      ]
     },
     "execution_count": 15,
     "metadata": {},
     "output_type": "execute_result"
    }
   ],
   "source": [
    "count_data = pd.DataFrame(small_nid_rat_adata.X,\n",
    "            columns = small_nid_rat_adata.var.gene_id)\n",
    "\n",
    "vir_counts = pd.DataFrame({\n",
    "    'vir_counts' : small_nid_vir_adata.X.toarray().transpose().tolist()[0]\n",
    "})\n",
    "\n",
    "vir_correlations = count_data.corrwith(vir_counts['vir_counts'])\n",
    "rat_analysis_df = pd.DataFrame({\n",
    "    'vir_corr' : vir_correlations.values,\n",
    "    'gene_counts' : count_data.sum(),\n",
    "    'gene_name' : small_nid_rat_adata.var.X3\n",
    "})\n",
    "rat_analysis_df = rat_analysis_df[~rat_analysis_df['vir_corr'].isna()]\n",
    "rat_analysis_df.head()"
   ]
  },
  {
   "cell_type": "markdown",
   "id": "4ca17911-f6a5-44a0-84a8-1dfbfab52798",
   "metadata": {},
   "source": [
    "## Calculate p-value and adjust for multiple hypothesis testing"
   ]
  },
  {
   "cell_type": "code",
   "execution_count": 16,
   "id": "8c38af33-6e98-40d2-8cc1-88975ecd3585",
   "metadata": {},
   "outputs": [
    {
     "name": "stdout",
     "output_type": "stream",
     "text": [
      "(24695, 5)\n"
     ]
    },
    {
     "data": {
      "text/html": [
       "<div>\n",
       "<style scoped>\n",
       "    .dataframe tbody tr th:only-of-type {\n",
       "        vertical-align: middle;\n",
       "    }\n",
       "\n",
       "    .dataframe tbody tr th {\n",
       "        vertical-align: top;\n",
       "    }\n",
       "\n",
       "    .dataframe thead th {\n",
       "        text-align: right;\n",
       "    }\n",
       "</style>\n",
       "<table border=\"1\" class=\"dataframe\">\n",
       "  <thead>\n",
       "    <tr style=\"text-align: right;\">\n",
       "      <th></th>\n",
       "      <th>vir_corr</th>\n",
       "      <th>gene_counts</th>\n",
       "      <th>gene_name</th>\n",
       "      <th>p_val</th>\n",
       "      <th>p_val_adj</th>\n",
       "    </tr>\n",
       "  </thead>\n",
       "  <tbody>\n",
       "    <tr>\n",
       "      <th>ENSRNOG00000066563</th>\n",
       "      <td>0.999799</td>\n",
       "      <td>1.0</td>\n",
       "      <td>NaN</td>\n",
       "      <td>3.492722e-83</td>\n",
       "      <td>8.625277e-79</td>\n",
       "    </tr>\n",
       "    <tr>\n",
       "      <th>ENSRNOG00000069751</th>\n",
       "      <td>0.782814</td>\n",
       "      <td>4124.0</td>\n",
       "      <td>NaN</td>\n",
       "      <td>1.864505e-11</td>\n",
       "      <td>4.604396e-07</td>\n",
       "    </tr>\n",
       "    <tr>\n",
       "      <th>ENSRNOG00000007468</th>\n",
       "      <td>0.771550</td>\n",
       "      <td>827.0</td>\n",
       "      <td>Ifng</td>\n",
       "      <td>5.463034e-11</td>\n",
       "      <td>1.349096e-06</td>\n",
       "    </tr>\n",
       "    <tr>\n",
       "      <th>ENSRNOG00000066796</th>\n",
       "      <td>0.760533</td>\n",
       "      <td>6619.0</td>\n",
       "      <td>LOC691815</td>\n",
       "      <td>1.476291e-10</td>\n",
       "      <td>3.645702e-06</td>\n",
       "    </tr>\n",
       "    <tr>\n",
       "      <th>ENSRNOG00000070192</th>\n",
       "      <td>0.756307</td>\n",
       "      <td>5413.0</td>\n",
       "      <td>NaN</td>\n",
       "      <td>2.131595e-10</td>\n",
       "      <td>5.263974e-06</td>\n",
       "    </tr>\n",
       "    <tr>\n",
       "      <th>ENSRNOG00000063131</th>\n",
       "      <td>0.699416</td>\n",
       "      <td>2.0</td>\n",
       "      <td>Or4x6</td>\n",
       "      <td>1.599741e-08</td>\n",
       "      <td>3.950560e-04</td>\n",
       "    </tr>\n",
       "    <tr>\n",
       "      <th>ENSRNOG00000066828</th>\n",
       "      <td>0.699416</td>\n",
       "      <td>2.0</td>\n",
       "      <td>LOC102551431</td>\n",
       "      <td>1.599741e-08</td>\n",
       "      <td>3.950560e-04</td>\n",
       "    </tr>\n",
       "    <tr>\n",
       "      <th>ENSRNOG00000065874</th>\n",
       "      <td>0.669742</td>\n",
       "      <td>7.0</td>\n",
       "      <td>NaN</td>\n",
       "      <td>1.044984e-07</td>\n",
       "      <td>2.580588e-03</td>\n",
       "    </tr>\n",
       "    <tr>\n",
       "      <th>ENSRNOG00000056574</th>\n",
       "      <td>0.654947</td>\n",
       "      <td>7966.0</td>\n",
       "      <td>Tigit</td>\n",
       "      <td>2.466164e-07</td>\n",
       "      <td>6.090192e-03</td>\n",
       "    </tr>\n",
       "    <tr>\n",
       "      <th>ENSRNOG00000063672</th>\n",
       "      <td>0.638029</td>\n",
       "      <td>1884.0</td>\n",
       "      <td>NaN</td>\n",
       "      <td>6.226342e-07</td>\n",
       "      <td>1.537595e-02</td>\n",
       "    </tr>\n",
       "  </tbody>\n",
       "</table>\n",
       "</div>"
      ],
      "text/plain": [
       "                    vir_corr  gene_counts     gene_name         p_val  \\\n",
       "ENSRNOG00000066563  0.999799          1.0           NaN  3.492722e-83   \n",
       "ENSRNOG00000069751  0.782814       4124.0           NaN  1.864505e-11   \n",
       "ENSRNOG00000007468  0.771550        827.0          Ifng  5.463034e-11   \n",
       "ENSRNOG00000066796  0.760533       6619.0     LOC691815  1.476291e-10   \n",
       "ENSRNOG00000070192  0.756307       5413.0           NaN  2.131595e-10   \n",
       "ENSRNOG00000063131  0.699416          2.0         Or4x6  1.599741e-08   \n",
       "ENSRNOG00000066828  0.699416          2.0  LOC102551431  1.599741e-08   \n",
       "ENSRNOG00000065874  0.669742          7.0           NaN  1.044984e-07   \n",
       "ENSRNOG00000056574  0.654947       7966.0         Tigit  2.466164e-07   \n",
       "ENSRNOG00000063672  0.638029       1884.0           NaN  6.226342e-07   \n",
       "\n",
       "                       p_val_adj  \n",
       "ENSRNOG00000066563  8.625277e-79  \n",
       "ENSRNOG00000069751  4.604396e-07  \n",
       "ENSRNOG00000007468  1.349096e-06  \n",
       "ENSRNOG00000066796  3.645702e-06  \n",
       "ENSRNOG00000070192  5.263974e-06  \n",
       "ENSRNOG00000063131  3.950560e-04  \n",
       "ENSRNOG00000066828  3.950560e-04  \n",
       "ENSRNOG00000065874  2.580588e-03  \n",
       "ENSRNOG00000056574  6.090192e-03  \n",
       "ENSRNOG00000063672  1.537595e-02  "
      ]
     },
     "execution_count": 16,
     "metadata": {},
     "output_type": "execute_result"
    }
   ],
   "source": [
    "rat_analysis_df['p_val'] = rat_analysis_df.vir_corr.apply(lambda x: 2*scipy.stats.beta(small_nid_rat_adata.shape[0]/2 -1, small_nid_rat_adata.shape[0]/2 -1, loc=-1, scale=2).cdf(-abs(x)))\n",
    "rat_analysis_df['p_val_adj'] = statsmodels.stats.multitest.multipletests(rat_analysis_df['p_val'],\n",
    "                                          method='bonferroni')[1]\n",
    "print(rat_analysis_df.shape)\n",
    "rat_analysis_df.sort_values(['p_val'], ascending=True).iloc[0:10,:]"
   ]
  },
  {
   "cell_type": "markdown",
   "id": "e8e9a86e-e07a-4313-ad67-e49d9e66cafc",
   "metadata": {},
   "source": [
    "## Subset for genes both significantly correlated with virus and found to be significant in the original analysis"
   ]
  },
  {
   "cell_type": "code",
   "execution_count": null,
   "id": "4c1c12af-b29b-47da-8eac-31ffe37e8992",
   "metadata": {},
   "outputs": [
    {
     "name": "stdout",
     "output_type": "stream",
     "text": [
      "(11, 5)\n"
     ]
    },
    {
     "name": "stderr",
     "output_type": "stream",
     "text": [
      "/home/coakes/rat/rat_friend.py:39: DtypeWarning: Columns (6,7) have mixed types. Specify dtype option on import or set low_memory=False.\n",
      "  og_de = pd.read_csv(og_supp_table_path+f'og_supp{og_supp_table}.csv', skiprows = 18)\n"
     ]
    },
    {
     "name": "stdout",
     "output_type": "stream",
     "text": [
      "(1, 5)\n"
     ]
    },
    {
     "data": {
      "text/html": [
       "<div>\n",
       "<style scoped>\n",
       "    .dataframe tbody tr th:only-of-type {\n",
       "        vertical-align: middle;\n",
       "    }\n",
       "\n",
       "    .dataframe tbody tr th {\n",
       "        vertical-align: top;\n",
       "    }\n",
       "\n",
       "    .dataframe thead th {\n",
       "        text-align: right;\n",
       "    }\n",
       "</style>\n",
       "<table border=\"1\" class=\"dataframe\">\n",
       "  <thead>\n",
       "    <tr style=\"text-align: right;\">\n",
       "      <th></th>\n",
       "      <th>vir_corr</th>\n",
       "      <th>gene_counts</th>\n",
       "      <th>gene_name</th>\n",
       "      <th>p_val</th>\n",
       "      <th>p_val_adj</th>\n",
       "    </tr>\n",
       "  </thead>\n",
       "  <tbody>\n",
       "    <tr>\n",
       "      <th>ENSRNOG00000056574</th>\n",
       "      <td>0.654947</td>\n",
       "      <td>7966.0</td>\n",
       "      <td>Tigit</td>\n",
       "      <td>2.466164e-07</td>\n",
       "      <td>0.00609</td>\n",
       "    </tr>\n",
       "  </tbody>\n",
       "</table>\n",
       "</div>"
      ],
      "text/plain": [
       "                    vir_corr  gene_counts gene_name         p_val  p_val_adj\n",
       "ENSRNOG00000056574  0.654947       7966.0     Tigit  2.466164e-07    0.00609"
      ]
     },
     "execution_count": 17,
     "metadata": {},
     "output_type": "execute_result"
    }
   ],
   "source": [
    "filtered_df = rat_analysis_df[rat_analysis_df.p_val_adj < .05]\n",
    "print(filtered_df.shape)\n",
    "filtered_df_old = filtered_df[genes_in_original(filtered_df.index.values,og_supp_table =2)]\n",
    "print(filtered_df_old.shape)\n",
    "filtered_df_old.sort_values(['p_val'], ascending=True).iloc[0:10,:]"
   ]
  },
  {
   "cell_type": "markdown",
   "id": "548ce5c7-28dc-4e72-895a-cb7cb50199e8",
   "metadata": {},
   "source": [
    "### Plot Gene of interest versus virus"
   ]
  },
  {
   "cell_type": "code",
   "execution_count": 18,
   "id": "9210ca08-cef0-4bd3-a677-134f3a5104e3",
   "metadata": {},
   "outputs": [
    {
     "data": {
      "text/plain": [
       "'ENSRNOG00000056574'"
      ]
     },
     "execution_count": 18,
     "metadata": {},
     "output_type": "execute_result"
    }
   ],
   "source": [
    "gene = filtered_df_old.sort_values(['p_val'], ascending=True).index[0]\n",
    "gene"
   ]
  },
  {
   "cell_type": "code",
   "execution_count": 19,
   "id": "ad5f53be-882c-4b3a-91e7-cbba31937ecc",
   "metadata": {},
   "outputs": [],
   "source": [
    "comp_df = pd.DataFrame({\n",
    "    gene : small_nid_rat_adata[:,small_nid_rat_adata.var.index == gene].X.transpose().tolist()[0],\n",
    "    vir : small_nid_vir_adata[:,small_nid_vir_adata.var.rep_ID == vir].X.toarray().transpose().tolist()[0],\n",
    "    'nid' : small_nid_rat_adata.obs.nid.values,\n",
    "    'vir_nid' : small_nid_vir_adata.obs.nid.values,\n",
    "    'sex' : small_nid_rat_adata.obs.sex.values,\n",
    "    'time' : small_nid_rat_adata.obs.time.values,\n",
    "    'vo2_max' : small_nid_rat_adata.obs['calculated.variables.vo2_max_change'].values\n",
    "})"
   ]
  },
  {
   "cell_type": "code",
   "execution_count": 20,
   "id": "9e872949-20ca-4d35-a966-b037870d4b92",
   "metadata": {},
   "outputs": [
    {
     "data": {
      "image/png": "[encoded data removed]",
      "text/plain": [
       "<Figure size 300x300 with 1 Axes>"
      ]
     },
     "metadata": {},
     "output_type": "display_data"
    }
   ],
   "source": [
    "plt.figure(figsize=(3, 3))\n",
    "sns.scatterplot(comp_df, x = gene, y = vir)\n",
    "sns.scatterplot(comp_df[comp_df.nid == 'F0K'], x = gene, y = vir, color = 'red')\n",
    "texts=[]\n",
    "name_df = comp_df[comp_df.nid == 'F0K'].set_index('nid')\n",
    "for i,r in name_df.iterrows():\n",
    "    texts.append(plt.text(x=r[gene]-25,y=r[vir]-30,s=i))\n",
    "adjust_text(texts,arrowprops=dict(arrowstyle=\"-\", color='black', lw=0.5))\n",
    "plt.xlim([0, 350])\n",
    "plt.xlabel('Tigit (Gene Reported as \\n Differentially Expressed in Lung)')\n",
    "plt.tight_layout()\n",
    "plt.savefig('figures_final/fig_3d.png')\n",
    "plt.show()"
   ]
  },
  {
   "cell_type": "markdown",
   "id": "7649e49a-a58b-4540-a5a5-76c49021c1aa",
   "metadata": {},
   "source": [
    "### Change in V02 Max of time 0 individuals"
   ]
  },
  {
   "cell_type": "code",
   "execution_count": 21,
   "id": "c1b12c06-7130-4e12-a5b0-3dbbabcfccb0",
   "metadata": {},
   "outputs": [
    {
     "data": {
      "image/png": "[encoded data removed]",
      "text/plain": [
       "<Figure size 150x500 with 1 Axes>"
      ]
     },
     "metadata": {},
     "output_type": "display_data"
    }
   ],
   "source": [
    "plt.figure(figsize=(1.5, 5))\n",
    "small_df = comp_df[comp_df.time.isin(['0'])].set_index('nid')\n",
    "small_df['time'] = small_df.time.cat.remove_unused_categories()\n",
    "ax = sns.scatterplot(small_df, x = 'time', y = 'vo2_max', alpha=1)\n",
    "ax = sns.scatterplot(small_df[small_df.index == 'F0K'], x = 'time', y = 'vo2_max', color = 'red', alpha=1)\n",
    "texts = []\n",
    "red_texts = []\n",
    "for i,r in small_df.iterrows():\n",
    "    if i == 'F0K': \n",
    "        red_texts.append(plt.text(x=r['time'],y=r['vo2_max'],s=i, ha = 'right', va = 'bottom'))\n",
    "    else:\n",
    "        texts.append(plt.text(x=r['time'],y=r['vo2_max'],s=i, ha = 'right', va = 'bottom'))\n",
    "adjust_text(texts,arrowprops=dict(arrowstyle=\"-\", color='black', lw=0.5), expand = (1.85, 1))\n",
    "adjust_text(red_texts,arrowprops=dict(arrowstyle=\"-\", color='red', lw=0.5), expand = (1.85, 1))\n",
    "plt.title('Change in \\n VO$_2$ max')\n",
    "plt.ylabel(None)\n",
    "ax.yaxis.tick_right()\n",
    "#ax.yaxis.set_label_position('right')\n",
    "plt.tight_layout()\n",
    "plt.savefig('figures_final/fig_3e.png')\n",
    "plt.show()"
   ]
  },
  {
   "cell_type": "markdown",
   "id": "70ec67f2-790f-4ab0-aa29-593f2293a064",
   "metadata": {},
   "source": [
    "## Plot Expression of Virus of Interest across tissues"
   ]
  },
  {
   "cell_type": "code",
   "execution_count": 37,
   "id": "069accc7-9c47-4236-a8e4-04c78f4dcc86",
   "metadata": {},
   "outputs": [
    {
     "data": {
      "image/png": "[encoded data removed]",
      "text/plain": [
       "<Figure size 800x24.8 with 3 Axes>"
      ]
     },
     "metadata": {
      "image/png": {
       "height": 108,
       "width": 740
      }
     },
     "output_type": "display_data"
    }
   ],
   "source": [
    "filtered_res = res[res.padj < .05]\n",
    "virus_adata.obs['F0K Virus Counts'] = virus_adata.obs.tissue\n",
    "sc.pl._utils._set_colors_for_categorical_obs(virus_adata, 'F0K Virus Counts', palette = color_dict)\n",
    "sc.set_figure_params(figsize=(2, 8.5))\n",
    "hmp = sc.pl.heatmap(virus_adata[virus_adata.obs.nid == 'F0K'], 'u234187', groupby = 'F0K Virus Counts', log=False, \n",
    "                    use_raw = False, swap_axes = True,\n",
    "             show = False)\n",
    "ax = hmp[\"groupby_ax\"]\n",
    "ax.set_xticklabels(ax.get_xticklabels(), rotation = 45, ha = 'right')\n",
    "ax.figure.savefig('figures_final/fig_3c.png', bbox_inches = \"tight\")"
   ]
  },
  {
   "cell_type": "code",
   "execution_count": null,
   "id": "1a9b92a5-e337-45b4-b963-a4906c4a1aa2",
   "metadata": {},
   "outputs": [],
   "source": []
  }
 ],
 "metadata": {
  "kernelspec": {
   "display_name": "Python 3 (ipykernel)",
   "language": "python",
   "name": "python3"
  },
  "language_info": {
   "codemirror_mode": {
    "name": "ipython",
    "version": 3
   },
   "file_extension": ".py",
   "mimetype": "text/x-python",
   "name": "python",
   "nbconvert_exporter": "python",
   "pygments_lexer": "ipython3",
   "version": "3.12.0"
  }
 },
 "nbformat": 4,
 "nbformat_minor": 5
}
